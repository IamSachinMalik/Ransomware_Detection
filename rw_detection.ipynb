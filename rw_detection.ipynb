import pandas as pd
from sklearn.tree import DecisionTreeClassifier
from sklearn.model_selection import train_test_split

# filenames
excel_names = ["ykcol.xlsx", "uninfected.xlsx"]

# read them in
excels = [pd.ExcelFile(name) for name in excel_names]

# turn them into dataframes
frames = [x.parse(x.sheet_names[0], header=None,index_col=None) for x in excels]

# delete the first row for all frames except the first
# i.e. remove the header row -- assumes it's the first
frames[1:] = [df[1:] for df in frames[1:]]

# concatenate them..
combined = pd.concat(frames)

combined.shape

# selecting desired columns for x
x = combined.drop([0,2,7], axis = 1)

#selecting desired columns for y
y = combined[7]

# spliting the data in training and testing
X_train, X_test, y_train, y_test = train_test_split(x, y, test_size = 0.2)

model.fit(X_train, y_train) #error after this
