import pandas as pd

# filenames
excel_names = ["ykcol.xlsx", "uninfected.xlsx"]

# read them in
excels = [pd.ExcelFile(name) for name in excel_names]

# turn them into dataframes
frames = [x.parse(x.sheet_names[0], header=None,index_col=None) for x in excels]

# delete the first row for all frames except the first
# i.e. remove the header row -- assumes it's the first
frames[1:] = [df[1:] for df in frames[1:]]

# concatenate them
combined = pd.concat(frames)

df = combined.drop(0)
x = df.drop([0,1,3,4,5,6,7], axis = 1)
x=x.astype('int')

y = df[7]
y=y.astype('int')

from sklearn.tree import DecisionTreeClassifier
from sklearn.model_selection import train_test_split
X_train, X_test, y_train, y_test = train_test_split(x, y, test_size = 0.2)
model = DecisionTreeClassifier()
model.fit(X_train, y_train)
predictions = model.predict(X_test)
score = accuracy_score(y_test,predictions)
score
